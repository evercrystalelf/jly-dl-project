{
 "cells": [
  {
   "cell_type": "code",
   "execution_count": 1,
   "id": "abb88bee",
   "metadata": {},
   "outputs": [],
   "source": [
    "import pandas as pd\n",
    "import numpy as np\n",
    "from sklearn.impute import SimpleImputer\n",
    "from sklearn.preprocessing import minmax_scale\n",
    "from sklearn.preprocessing import OneHotEncoder"
   ]
  },
  {
   "cell_type": "code",
   "execution_count": 2,
   "id": "bac38c7b",
   "metadata": {},
   "outputs": [],
   "source": [
    "# Creation of imputer instances for categorical and numerical features\n",
    "impute_num = SimpleImputer(missing_values = np.nan, strategy = 'mean')\n",
    "impute_cat = SimpleImputer(missing_values = np.nan, strategy = 'most_frequent')"
   ]
  },
  {
   "cell_type": "code",
   "execution_count": 3,
   "id": "dc8c151a",
   "metadata": {},
   "outputs": [],
   "source": [
    "# numerical, categorical features and types\n",
    "\n",
    "num = ['AGE', 'INF_ANAM', 'STENOK_AN', 'FK_STENOK', 'IBS_POST', 'GB',\n",
    "       'DLIT_AG', 'ZSN_A', 'S_AD_ORIT', 'D_AD_ORIT', 'ant_im', 'lat_im',\n",
    "       'inf_im', 'post_im', 'K_BLOOD', 'NA_BLOOD', 'ALT_BLOOD', 'AST_BLOOD',\n",
    "       'L_BLOOD', 'ROE', 'TIME_B_S']\n",
    "\n",
    "num_type = ['float']\n",
    "\n",
    "cat = ['SEX', 'SIM_GIPERT', 'nr_11', 'nr_01', 'nr_02', 'nr_03', 'nr_04',\n",
    "       'nr_07', 'nr_08', 'np_01', 'np_04', 'np_05', 'np_07', 'np_08', 'np_09',\n",
    "       'np_10', 'endocr_01', 'endocr_02', 'endocr_03', 'zab_leg_01',\n",
    "       'zab_leg_02', 'zab_leg_03', 'zab_leg_04', 'zab_leg_06', 'O_L_POST',\n",
    "       'K_SH_POST', 'MP_TP_POST', 'SVT_POST', 'GT_POST', 'FIB_G_POST',\n",
    "       'IM_PG_P', 'ritm_ecg_p_01', 'ritm_ecg_p_02', 'ritm_ecg_p_04',\n",
    "       'ritm_ecg_p_06', 'ritm_ecg_p_07', 'ritm_ecg_p_08', 'n_r_ecg_p_01',\n",
    "       'n_r_ecg_p_02', 'n_r_ecg_p_03', 'n_r_ecg_p_04', 'n_r_ecg_p_05',\n",
    "       'n_r_ecg_p_06', 'n_r_ecg_p_08', 'n_r_ecg_p_09', 'n_r_ecg_p_10',\n",
    "       'n_p_ecg_p_01', 'n_p_ecg_p_03', 'n_p_ecg_p_04', 'n_p_ecg_p_05',\n",
    "       'n_p_ecg_p_06', 'n_p_ecg_p_07', 'n_p_ecg_p_08', 'n_p_ecg_p_09',\n",
    "       'n_p_ecg_p_10', 'n_p_ecg_p_11', 'n_p_ecg_p_12', 'fibr_ter_01',\n",
    "       'fibr_ter_02', 'fibr_ter_03', 'fibr_ter_05', 'fibr_ter_06',\n",
    "       'fibr_ter_07', 'fibr_ter_08', 'GIPO_K', 'GIPER_NA', 'NA_KB',\n",
    "       'NOT_NA_KB', 'LID_KB', 'NITR_S', 'LID_S_n', 'B_BLOK_S_n', 'ANT_CA_S_n',\n",
    "       'GEPAR_S_n', 'ASP_S_n', 'TIKL_S_n', 'TRENT_S_n']\n",
    "\n",
    "cat_type = ['int']\n",
    "\n",
    "# dictionaries for type casting\n",
    "\n",
    "num_dict = dict()\n",
    "cat_dict = dict()\n",
    "\n",
    "for typ_n in num_type:\n",
    "    for column in num:\n",
    "        num_dict[column] = typ_n\n",
    "        \n",
    "for typ_c in cat_type:\n",
    "    for column in cat:\n",
    "        cat_dict[column] = typ_c\n",
    "\n",
    "# works for Python 3.9.0 or greater\n",
    "types = num_dict | cat_dict\n",
    "\n",
    "# In Python 3.5 or greater\n",
    "# types = {**num_dict, **cat_dict}"
   ]
  },
  {
   "cell_type": "code",
   "execution_count": 4,
   "id": "21cd190d",
   "metadata": {},
   "outputs": [],
   "source": [
    "train = pd.read_csv('./jly-dl-project/test', sep=',', index_col=0)"
   ]
  },
  {
   "cell_type": "code",
   "execution_count": 5,
   "id": "64711fb2",
   "metadata": {},
   "outputs": [],
   "source": [
    "# Imputation of data. Fit method calculates mean or mode of feature\n",
    "# and transform method scales the feature\n",
    "\n",
    "# numerical features\n",
    "train[num] = impute_num.fit_transform(train[num])\n",
    "\n",
    "# categorical features\n",
    "train[cat] = impute_cat.fit_transform(train[cat])"
   ]
  },
  {
   "cell_type": "code",
   "execution_count": 6,
   "id": "1005713e",
   "metadata": {},
   "outputs": [],
   "source": [
    "train = train.astype(dtype=types)"
   ]
  }
 ],
 "metadata": {
  "kernelspec": {
   "display_name": "Python [conda env:data_analysis] *",
   "language": "python",
   "name": "conda-env-data_analysis-py"
  },
  "language_info": {
   "codemirror_mode": {
    "name": "ipython",
    "version": 3
   },
   "file_extension": ".py",
   "mimetype": "text/x-python",
   "name": "python",
   "nbconvert_exporter": "python",
   "pygments_lexer": "ipython3",
   "version": "3.9.7"
  }
 },
 "nbformat": 4,
 "nbformat_minor": 5
}
