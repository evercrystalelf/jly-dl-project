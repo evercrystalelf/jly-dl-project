{
 "cells": [
  {
   "cell_type": "code",
   "execution_count": 1,
   "id": "abb88bee",
   "metadata": {},
   "outputs": [],
   "source": [
    "import pandas as pd\n",
    "import numpy as np\n",
    "from sklearn.impute import SimpleImputer\n",
    "from sklearn.preprocessing import MinMaxScaler\n",
    "from sklearn.compose import ColumnTransformer"
   ]
  },
  {
   "cell_type": "code",
   "execution_count": 2,
   "id": "b7a43829",
   "metadata": {},
   "outputs": [],
   "source": [
    "# Creation of imputer instances for categorical, numerical features, and MinMaxScaler\n",
    "impute_num = SimpleImputer(missing_values = np.nan, strategy = 'mean')\n",
    "impute_cat = SimpleImputer(missing_values = np.nan, strategy = 'most_frequent')\n",
    "min_max_scaler = MinMaxScaler()"
   ]
  },
  {
   "cell_type": "code",
   "execution_count": 3,
   "id": "08293a38",
   "metadata": {},
   "outputs": [],
   "source": [
    "# In this cell we create two lists containing the name of numerical and categorical \n",
    "# features. Also dictionaries for later type casting are created. \n",
    "\n",
    "num = ['AGE', 'INF_ANAM', 'STENOK_AN', 'FK_STENOK', 'IBS_POST', 'GB',\n",
    "       'DLIT_AG', 'ZSN_A', 'S_AD_ORIT', 'D_AD_ORIT', 'ant_im', 'lat_im',\n",
    "       'inf_im', 'post_im', 'K_BLOOD', 'NA_BLOOD', 'ALT_BLOOD', 'AST_BLOOD',\n",
    "       'L_BLOOD', 'ROE', 'TIME_B_S']\n",
    "\n",
    "num_type = ['float']\n",
    "\n",
    "cat = ['SEX', 'SIM_GIPERT', 'nr_11', 'nr_01', 'nr_02', 'nr_03', 'nr_04',\n",
    "       'nr_07', 'nr_08', 'np_01', 'np_04', 'np_05', 'np_07', 'np_08', 'np_09',\n",
    "       'np_10', 'endocr_01', 'endocr_02', 'endocr_03', 'zab_leg_01',\n",
    "       'zab_leg_02', 'zab_leg_03', 'zab_leg_04', 'zab_leg_06', 'O_L_POST',\n",
    "       'K_SH_POST', 'MP_TP_POST', 'SVT_POST', 'GT_POST', 'FIB_G_POST',\n",
    "       'IM_PG_P', 'ritm_ecg_p_01', 'ritm_ecg_p_02', 'ritm_ecg_p_04',\n",
    "       'ritm_ecg_p_06', 'ritm_ecg_p_07', 'ritm_ecg_p_08', 'n_r_ecg_p_01',\n",
    "       'n_r_ecg_p_02', 'n_r_ecg_p_03', 'n_r_ecg_p_04', 'n_r_ecg_p_05',\n",
    "       'n_r_ecg_p_06', 'n_r_ecg_p_08', 'n_r_ecg_p_09', 'n_r_ecg_p_10',\n",
    "       'n_p_ecg_p_01', 'n_p_ecg_p_03', 'n_p_ecg_p_04', 'n_p_ecg_p_05',\n",
    "       'n_p_ecg_p_06', 'n_p_ecg_p_07', 'n_p_ecg_p_08', 'n_p_ecg_p_09',\n",
    "       'n_p_ecg_p_10', 'n_p_ecg_p_11', 'n_p_ecg_p_12', 'fibr_ter_01',\n",
    "       'fibr_ter_02', 'fibr_ter_03', 'fibr_ter_05', 'fibr_ter_06',\n",
    "       'fibr_ter_07', 'fibr_ter_08', 'GIPO_K', 'GIPER_NA', 'NA_KB',\n",
    "       'NOT_NA_KB', 'LID_KB', 'NITR_S', 'LID_S_n', 'B_BLOK_S_n', 'ANT_CA_S_n',\n",
    "       'GEPAR_S_n', 'ASP_S_n', 'TIKL_S_n', 'TRENT_S_n']\n",
    "\n",
    "cat_type = ['Int64']\n",
    "cat_type2 = ['int']\n",
    "\n",
    "# dictionaries for type casting\n",
    "\n",
    "num_dict = dict()\n",
    "cat_dict = dict()\n",
    "cat2_dict = dict()\n",
    "\n",
    "for typ_n in num_type:\n",
    "    for column in num:\n",
    "        num_dict[column] = typ_n\n",
    "        \n",
    "for typ_c in cat_type:\n",
    "    for column in cat:\n",
    "        cat_dict[column] = typ_c\n",
    "        \n",
    "for typ_2c in cat_type2:\n",
    "    for column in cat:\n",
    "        cat2_dict[column] = typ_2c\n",
    "\n",
    "# works for Python 3.9.0 or greater\n",
    "types = num_dict | cat_dict\n",
    "types2 = num_dict | cat2_dict\n",
    "\n",
    "# In Python 3.5 or greater\n",
    "# types = {**num_dict, **cat_dict}"
   ]
  },
  {
   "cell_type": "code",
   "execution_count": 4,
   "id": "21cd190d",
   "metadata": {},
   "outputs": [],
   "source": [
    "# read file with training data\n",
    "train = pd.read_csv('./jly-dl-project/train', dtype=types, index_col=0)"
   ]
  },
  {
   "cell_type": "code",
   "execution_count": 5,
   "id": "b40229f8",
   "metadata": {},
   "outputs": [],
   "source": [
    "# impute missing values\n",
    "train[num] = impute_num.fit_transform(train[num])\n",
    "train[cat] = impute_cat.fit_transform(train[cat])"
   ]
  },
  {
   "cell_type": "code",
   "execution_count": 6,
   "id": "8b7d65bf",
   "metadata": {},
   "outputs": [],
   "source": [
    "# cast features to types\n",
    "train = train.astype(dtype=types2)\n",
    "train['AGE'] = train['AGE'].astype('int')"
   ]
  },
  {
   "cell_type": "code",
   "execution_count": 7,
   "id": "7a35fac9",
   "metadata": {},
   "outputs": [],
   "source": [
    "# perform min_max scaling on numerical features\n",
    "train[num] = min_max_scaler.fit_transform(train[num])"
   ]
  },
  {
   "cell_type": "code",
   "execution_count": 8,
   "id": "29ed6aab",
   "metadata": {},
   "outputs": [],
   "source": [
    "# Split data into X and y vectors\n",
    "X_train = train.drop(columns=['LET_IS'])\n",
    "y_train = train['LET_IS']"
   ]
  },
  {
   "cell_type": "code",
   "execution_count": null,
   "id": "82436c5a",
   "metadata": {},
   "outputs": [],
   "source": []
  }
 ],
 "metadata": {
  "kernelspec": {
   "display_name": "Python [conda env:data_analysis] *",
   "language": "python",
   "name": "conda-env-data_analysis-py"
  },
  "language_info": {
   "codemirror_mode": {
    "name": "ipython",
    "version": 3
   },
   "file_extension": ".py",
   "mimetype": "text/x-python",
   "name": "python",
   "nbconvert_exporter": "python",
   "pygments_lexer": "ipython3",
   "version": "3.9.7"
  }
 },
 "nbformat": 4,
 "nbformat_minor": 5
}
